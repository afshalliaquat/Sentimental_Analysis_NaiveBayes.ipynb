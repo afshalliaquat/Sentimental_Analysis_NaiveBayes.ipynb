{
  "nbformat": 4,
  "nbformat_minor": 0,
  "metadata": {
    "colab": {
      "provenance": [],
      "authorship_tag": "ABX9TyN1iCuQurWf1fZzLu18Piaz",
      "include_colab_link": true
    },
    "kernelspec": {
      "name": "python3",
      "display_name": "Python 3"
    },
    "language_info": {
      "name": "python"
    }
  },
  "cells": [
    {
      "cell_type": "markdown",
      "metadata": {
        "id": "view-in-github",
        "colab_type": "text"
      },
      "source": [
        "<a href=\"https://colab.research.google.com/github/afshalliaquat/Sentimental_Analysis_NaiveBayes.ipynb/blob/main/Sentimental_Analysis_NB.ipynb\" target=\"_parent\"><img src=\"https://colab.research.google.com/assets/colab-badge.svg\" alt=\"Open In Colab\"/></a>"
      ]
    },
    {
      "cell_type": "code",
      "execution_count": 1,
      "metadata": {
        "id": "IpS86sBY1Nv1"
      },
      "outputs": [],
      "source": [
        "import pandas as pd\n",
        "import numpy as np\n",
        "import seaborn as sns\n",
        "import matplotlib.pyplot as plt\n",
        "import warnings\n",
        "warnings.filterwarnings('ignore')"
      ]
    },
    {
      "cell_type": "code",
      "source": [
        "df = pd.read_csv('train.txt',sep = ';',header=None,names= ['text','emotions'])"
      ],
      "metadata": {
        "id": "mKP7rxba1S3V"
      },
      "execution_count": 2,
      "outputs": []
    },
    {
      "cell_type": "code",
      "source": [
        "unique_emotions = df['emotions'].unique()\n",
        "emotion_no = {}\n",
        "i=0\n",
        "\n",
        "for emo in unique_emotions:\n",
        "  emotion_no[emo]=i\n",
        "  i+=1\n",
        "\n",
        "df['emotions'] = df['emotions'].map(emotion_no)"
      ],
      "metadata": {
        "id": "lPOYzojS1VPe"
      },
      "execution_count": 3,
      "outputs": []
    },
    {
      "cell_type": "code",
      "source": [
        "df['text'] = df['text'].apply(lambda x:x.lower())"
      ],
      "metadata": {
        "id": "vgopS_CL1Wwf"
      },
      "execution_count": 4,
      "outputs": []
    },
    {
      "cell_type": "code",
      "source": [
        "import string"
      ],
      "metadata": {
        "id": "B54MBa0P1Yjo"
      },
      "execution_count": 5,
      "outputs": []
    },
    {
      "cell_type": "code",
      "source": [
        "def remove_punc(text):\n",
        "  return text.translate(str.maketrans('','',string.punctuation))"
      ],
      "metadata": {
        "id": "tv7wwDUR1aKo"
      },
      "execution_count": 6,
      "outputs": []
    },
    {
      "cell_type": "code",
      "source": [
        "df['text'] = df['text'].apply(remove_punc)"
      ],
      "metadata": {
        "id": "hzsxNaoS1cL0"
      },
      "execution_count": 7,
      "outputs": []
    },
    {
      "cell_type": "code",
      "source": [
        "def remove_no(text):\n",
        "  string = ''\n",
        "  for i in text:\n",
        "    if not i.isdigit():\n",
        "      string += i\n",
        "  return string\n"
      ],
      "metadata": {
        "id": "F0eZPE2K1eai"
      },
      "execution_count": 8,
      "outputs": []
    },
    {
      "cell_type": "code",
      "source": [
        "df['text'] = df['text'].apply(remove_no)"
      ],
      "metadata": {
        "id": "zuevTEJ91gdy"
      },
      "execution_count": 9,
      "outputs": []
    },
    {
      "cell_type": "code",
      "source": [
        "def remove_emoji(text):\n",
        "  string = ''\n",
        "  for i in text:\n",
        "    if i.isascii():\n",
        "      string+=i\n",
        "  return string"
      ],
      "metadata": {
        "id": "V2i6BVXW1jGc"
      },
      "execution_count": 10,
      "outputs": []
    },
    {
      "cell_type": "code",
      "source": [
        "df['text'] = df['text'].apply(remove_emoji)"
      ],
      "metadata": {
        "id": "aaiXQXN-1lDK"
      },
      "execution_count": 11,
      "outputs": []
    },
    {
      "cell_type": "code",
      "source": [
        "import nltk\n",
        "from nltk.corpus import stopwords\n",
        "from nltk.tokenize import word_tokenize"
      ],
      "metadata": {
        "id": "PXiGEQqh1nPh"
      },
      "execution_count": 12,
      "outputs": []
    },
    {
      "cell_type": "code",
      "source": [
        "nltk.download('stopwords')\n",
        "nltk.download('punkt')       # for word_tokenize"
      ],
      "metadata": {
        "colab": {
          "base_uri": "https://localhost:8080/"
        },
        "id": "6S1eXf-m1pZE",
        "outputId": "ee8f86df-03eb-4e21-b4e0-d3631a95fed2"
      },
      "execution_count": 13,
      "outputs": [
        {
          "output_type": "stream",
          "name": "stderr",
          "text": [
            "[nltk_data] Downloading package stopwords to /root/nltk_data...\n",
            "[nltk_data]   Unzipping corpora/stopwords.zip.\n",
            "[nltk_data] Downloading package punkt to /root/nltk_data...\n",
            "[nltk_data]   Unzipping tokenizers/punkt.zip.\n"
          ]
        },
        {
          "output_type": "execute_result",
          "data": {
            "text/plain": [
              "True"
            ]
          },
          "metadata": {},
          "execution_count": 13
        }
      ]
    },
    {
      "cell_type": "code",
      "source": [
        "stop_words = set(stopwords.words('english'))"
      ],
      "metadata": {
        "id": "WmbvtxbX1rTQ"
      },
      "execution_count": 14,
      "outputs": []
    },
    {
      "cell_type": "code",
      "source": [
        "def remove(txt):\n",
        "  words = txt.split()\n",
        "  cleaned = []\n",
        "  for i in words:\n",
        "    if not i in stop_words:\n",
        "      cleaned.append(i)\n",
        "  return ' '.join(cleaned)"
      ],
      "metadata": {
        "id": "23oBMxvl1uUQ"
      },
      "execution_count": 15,
      "outputs": []
    },
    {
      "cell_type": "code",
      "source": [
        "df['text'] = df['text'].apply(remove)"
      ],
      "metadata": {
        "id": "jkmLmgx21wS7"
      },
      "execution_count": 16,
      "outputs": []
    },
    {
      "cell_type": "code",
      "source": [
        "from sklearn.model_selection import train_test_split"
      ],
      "metadata": {
        "id": "f29hb2k61yq_"
      },
      "execution_count": 17,
      "outputs": []
    },
    {
      "cell_type": "code",
      "source": [
        "X = df['text']\n",
        "y= df['emotions']"
      ],
      "metadata": {
        "id": "HkQbzk9e142T"
      },
      "execution_count": 18,
      "outputs": []
    },
    {
      "cell_type": "code",
      "source": [
        "X_train, X_test, y_train, y_test = train_test_split(X, y, test_size=0.20, random_state=42)"
      ],
      "metadata": {
        "id": "nd8DJ5Qp16sH"
      },
      "execution_count": 19,
      "outputs": []
    },
    {
      "cell_type": "code",
      "source": [
        "from sklearn.feature_extraction.text import CountVectorizer  #Bag of words (only 0 and 1s)"
      ],
      "metadata": {
        "id": "TxY7xsgh12R1"
      },
      "execution_count": 20,
      "outputs": []
    },
    {
      "cell_type": "code",
      "source": [
        "bow = CountVectorizer()\n",
        "X_train_bow = bow.fit_transform(X_train)\n",
        "X_test_bow = bow.transform(X_test)"
      ],
      "metadata": {
        "id": "zBdd4Itt1883"
      },
      "execution_count": 21,
      "outputs": []
    },
    {
      "cell_type": "code",
      "source": [
        "from sklearn.feature_extraction.text import TfidfVectorizer\n",
        "\n",
        "vectorizer = TfidfVectorizer()\n",
        "\n",
        "X_train_vector = vectorizer.fit_transform(X_train)\n",
        "X_test_vector = vectorizer.transform(X_test)"
      ],
      "metadata": {
        "id": "8_Blz0Fa1_Kt"
      },
      "execution_count": 22,
      "outputs": []
    },
    {
      "cell_type": "code",
      "source": [
        "\n",
        "from sklearn.naive_bayes import MultinomialNB\n",
        "from sklearn.metrics import accuracy_score"
      ],
      "metadata": {
        "id": "56G9dS-d2GTz"
      },
      "execution_count": 23,
      "outputs": []
    },
    {
      "cell_type": "code",
      "source": [
        "model = MultinomialNB()\n",
        "model.fit(X_train_bow,y_train)\n",
        "y_pred = model.predict(X_test_bow)\n",
        "accuracy_score(y_test,y_pred)"
      ],
      "metadata": {
        "colab": {
          "base_uri": "https://localhost:8080/"
        },
        "id": "BW8_b0la2Izm",
        "outputId": "984b89df-6d4a-4f5b-fd12-36a9d8ab21d1"
      },
      "execution_count": 24,
      "outputs": [
        {
          "output_type": "execute_result",
          "data": {
            "text/plain": [
              "0.739433117851815"
            ]
          },
          "metadata": {},
          "execution_count": 24
        }
      ]
    },
    {
      "cell_type": "code",
      "source": [
        "Parameter_NB = {\n",
        "    'alpha': [0.1, 0.5, 1.0, 2.0, 5.0, 10.0],\n",
        "    'fit_prior': [True, False]\n",
        "}"
      ],
      "metadata": {
        "id": "gnKMkWfu2ON-"
      },
      "execution_count": 25,
      "outputs": []
    },
    {
      "cell_type": "code",
      "source": [
        "from sklearn.model_selection import RandomizedSearchCV, GridSearchCV"
      ],
      "metadata": {
        "id": "eLfPwXwz2QUc"
      },
      "execution_count": 26,
      "outputs": []
    },
    {
      "cell_type": "code",
      "source": [
        "grid = GridSearchCV(estimator=model,cv=5,param_grid=Parameter_NB)\n",
        "grid.fit(X_train_bow,y_train)\n",
        "new_model_NB =grid.best_estimator_\n",
        "y_pre = new_model_NB.predict(X_test_bow)\n",
        "accuracy_score(y_test,y_pre)"
      ],
      "metadata": {
        "colab": {
          "base_uri": "https://localhost:8080/"
        },
        "id": "3fkB4dT42SUT",
        "outputId": "e1550956-5dce-42bb-d59f-24bbabf32b13"
      },
      "execution_count": 27,
      "outputs": [
        {
          "output_type": "execute_result",
          "data": {
            "text/plain": [
              "0.7896568871208354"
            ]
          },
          "metadata": {},
          "execution_count": 27
        }
      ]
    },
    {
      "cell_type": "code",
      "source": [
        "model2 = MultinomialNB()\n",
        "model2.fit(X_train_vector, y_train)\n",
        "y_pred_tfidf = model2.predict(X_test_vector)\n",
        "accuracy_score(y_test,y_pred_tfidf)"
      ],
      "metadata": {
        "colab": {
          "base_uri": "https://localhost:8080/"
        },
        "id": "xhCl_HvK2UoM",
        "outputId": "f3cb0f8f-c76c-4a57-e58a-4e135a6f3da5"
      },
      "execution_count": 28,
      "outputs": [
        {
          "output_type": "execute_result",
          "data": {
            "text/plain": [
              "0.6429636996519145"
            ]
          },
          "metadata": {},
          "execution_count": 28
        }
      ]
    },
    {
      "cell_type": "code",
      "source": [
        "grid = GridSearchCV(estimator=model2,cv=5,param_grid=Parameter_NB)\n",
        "grid.fit(X_train_vector,y_train)\n",
        "new_model_NB =grid.best_estimator_\n",
        "y_pre_vector = new_model_NB.predict(X_test_vector)\n",
        "accuracy_score(y_test,y_pre)"
      ],
      "metadata": {
        "colab": {
          "base_uri": "https://localhost:8080/"
        },
        "id": "VFFicf0U2hyw",
        "outputId": "ea6b0540-608f-4fd5-83fa-b6b4553e34fc"
      },
      "execution_count": 31,
      "outputs": [
        {
          "output_type": "execute_result",
          "data": {
            "text/plain": [
              "0.7916459472899056"
            ]
          },
          "metadata": {},
          "execution_count": 31
        }
      ]
    },
    {
      "cell_type": "code",
      "source": [
        "from sklearn.metrics import classification_report\n",
        "\n",
        "print(classification_report(y_test, y_pred))\n",
        "print(classification_report(y_test, y_pre))\n",
        "print(classification_report(y_test, y_pred_tfidf))\n",
        "print(classification_report(y_test, y_pre_vector))\n"
      ],
      "metadata": {
        "colab": {
          "base_uri": "https://localhost:8080/"
        },
        "id": "rjTjJwlm5sse",
        "outputId": "26291710-d078-4775-d18b-53b2cfeab343"
      },
      "execution_count": 33,
      "outputs": [
        {
          "output_type": "stream",
          "name": "stdout",
          "text": [
            "              precision    recall  f1-score   support\n",
            "\n",
            "           0       0.67      0.93      0.78       530\n",
            "           1       0.88      0.61      0.72       275\n",
            "           2       0.95      0.25      0.39       161\n",
            "           3       1.00      0.09      0.16        78\n",
            "           4       0.87      0.44      0.58       253\n",
            "           5       0.74      0.93      0.82       714\n",
            "\n",
            "    accuracy                           0.74      2011\n",
            "   macro avg       0.85      0.54      0.58      2011\n",
            "weighted avg       0.78      0.74      0.71      2011\n",
            "\n",
            "              precision    recall  f1-score   support\n",
            "\n",
            "           0       0.76      0.92      0.83       530\n",
            "           1       0.85      0.72      0.78       275\n",
            "           2       0.77      0.45      0.57       161\n",
            "           3       0.77      0.31      0.44        78\n",
            "           4       0.84      0.65      0.73       253\n",
            "           5       0.79      0.91      0.84       714\n",
            "           6       0.00      0.00      0.00         0\n",
            "\n",
            "    accuracy                           0.79      2011\n",
            "   macro avg       0.68      0.56      0.60      2011\n",
            "weighted avg       0.80      0.79      0.78      2011\n",
            "\n",
            "              precision    recall  f1-score   support\n",
            "\n",
            "           0       0.63      0.93      0.75       530\n",
            "           1       0.92      0.26      0.40       275\n",
            "           2       1.00      0.04      0.08       161\n",
            "           3       0.00      0.00      0.00        78\n",
            "           4       0.93      0.15      0.25       253\n",
            "           5       0.62      0.96      0.76       714\n",
            "\n",
            "    accuracy                           0.64      2011\n",
            "   macro avg       0.68      0.39      0.37      2011\n",
            "weighted avg       0.71      0.64      0.56      2011\n",
            "\n",
            "              precision    recall  f1-score   support\n",
            "\n",
            "           0       0.76      0.92      0.83       530\n",
            "           1       0.85      0.72      0.78       275\n",
            "           2       0.77      0.45      0.57       161\n",
            "           3       0.77      0.31      0.44        78\n",
            "           4       0.84      0.65      0.73       253\n",
            "           5       0.79      0.91      0.84       714\n",
            "           6       0.00      0.00      0.00         0\n",
            "\n",
            "    accuracy                           0.79      2011\n",
            "   macro avg       0.68      0.56      0.60      2011\n",
            "weighted avg       0.80      0.79      0.78      2011\n",
            "\n"
          ]
        }
      ]
    }
  ]
}